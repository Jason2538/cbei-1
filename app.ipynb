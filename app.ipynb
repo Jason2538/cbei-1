{
 "cells": [
  {
   "cell_type": "code",
   "execution_count": 23,
   "metadata": {},
   "outputs": [
    {
     "data": {
      "text/plain": [
       "[[0, 0, 0, 0, 0],\n",
       " [0, 0, 0, 0, 0],\n",
       " [0, 0, 0, 0, 0],\n",
       " [0, 0, 0, 0, 0],\n",
       " [0, 0, 0, 0, 0],\n",
       " [0, 0, 0, 0, 0],\n",
       " [0, 0, 0, 0, 0],\n",
       " [0, 0, 0, 0, 0],\n",
       " [0, 0, 0, 0, 0],\n",
       " [0, 0, 0, 0, 0]]"
      ]
     },
     "execution_count": 23,
     "metadata": {},
     "output_type": "execute_result"
    }
   ],
   "source": [
    "\n",
    "l = [input().split() for i in range(5)]\n",
    "\n",
    "\n",
    "for x in range(15):\n",
    "    for y in range(5):"
   ]
  },
  {
   "cell_type": "code",
   "execution_count": 3,
   "metadata": {},
   "outputs": [
    {
     "data": {
      "text/plain": [
       "(True, '7003915')"
      ]
     },
     "execution_count": 3,
     "metadata": {},
     "output_type": "execute_result"
    }
   ],
   "source": [
    "import requests\n",
    "import pprint\n",
    "\n",
    "\n",
    "def get_sc_code(name):\n",
    "    param = {\n",
    "        \"SCHUL_NM\":name,\n",
    "        \"ATPT_OFCDC_SC_CODE\":\"M10\",\n",
    "        \"Type\":\"json\"\n",
    "    }\n",
    "    res = requests.get(\"https://open.neis.go.kr/hub/schoolInfo\",params=param)\n",
    "    data = res.json()\n",
    "    r = True\n",
    "    try:\n",
    "        data = data[\"schoolInfo\"][1]['row'][0][\"SD_SCHUL_CODE\"]\n",
    "    except:\n",
    "        data = \"못찾음\"\n",
    "        r = False\n",
    "    return r, data\n"
   ]
  },
  {
   "cell_type": "code",
   "execution_count": 7,
   "metadata": {},
   "outputs": [
    {
     "data": {
      "text/plain": [
       "{'mealServiceDietInfo': [{'head': [{'list_total_count': 1},\n",
       "    {'RESULT': {'CODE': 'INFO-000', 'MESSAGE': '정상 처리되었습니다.'}}]},\n",
       "  {'row': [{'ATPT_OFCDC_SC_CODE': 'M10',\n",
       "     'ATPT_OFCDC_SC_NM': '충청북도교육청',\n",
       "     'SD_SCHUL_CODE': '7003915',\n",
       "     'SCHUL_NM': '청주교육대학교부설초등학교',\n",
       "     'MMEAL_SC_CODE': '2',\n",
       "     'MMEAL_SC_NM': '중식',\n",
       "     'MLSV_YMD': '20230609',\n",
       "     'MLSV_FGR': '433',\n",
       "     'DDISH_NM': '혼합잡곡밥(18곡)*  (5.)<br/>들깨감자수제비국  (5.6.13.)<br/>삼치김치조림  (5.6.7.9.13.)<br/>쑥갓두부무침*  (5.)<br/>깍두기  (9.13.)<br/>우유  (2.)<br/>비타C젤리  ',\n",
       "     'ORPLC_INFO': '쌀 : 국내산<br/>김치류 : 국내산<br/>고춧가루(김치류) : 국내산<br/>쇠고기(종류) : 국내산(한우)<br/>돼지고기 : 국내산<br/>닭고기 : 국내산<br/>오리고기 : 국내산<br/>쇠고기 식육가공품 : 국내산<br/>돼지고기 식육가공품 : 국내산<br/>닭고기 식육가공품 : 국내산<br/>오리고기 가공품 : 국내산<br/>낙지 : 국내산<br/>고등어 : 국내산<br/>갈치 : 국내산<br/>오징어 : 국내산<br/>꽃게 : 국내산<br/>참조기 : 국내산<br/>고등어 수산가공품 : 국내산<br/>오징어 수산가공품 : 국내산<br/>두부 : 국내산<br/>콩 : 국내산',\n",
       "     'CAL_INFO': '531.7 Kcal',\n",
       "     'NTR_INFO': '탄수화물(g) : 90.6<br/>단백질(g) : 23.6<br/>지방(g) : 8.7<br/>비타민A(R.E) : 190.0<br/>티아민(mg) : 0.2<br/>리보플라빈(mg) : 0.4<br/>비타민C(mg) : 6.6<br/>칼슘(mg) : 228.7<br/>철분(mg) : 2.2',\n",
       "     'MLSV_FROM_YMD': '20230609',\n",
       "     'MLSV_TO_YMD': '20230609'}]}]}"
      ]
     },
     "execution_count": 7,
     "metadata": {},
     "output_type": "execute_result"
    }
   ],
   "source": [
    "def get_meal():\n",
    "    params = {\n",
    "        \"ATPT_OFCDC_SC_CODE\":\"M10\",\n",
    "        \"Type\":\"json\",\n",
    "        \"SD_SCHUL_CODE\":\"7003915\",\n",
    "        \"MLSV_YMD\":\"20230609\"     \n",
    "    }\n",
    "    res = requests.get(\"https://open.neis.go.kr/hub/mealServiceDietInfo\",params=params)\n",
    "    data = res.json()\n",
    "    return data\n",
    "get_meal()"
   ]
  },
  {
   "cell_type": "code",
   "execution_count": 2,
   "metadata": {},
   "outputs": [
    {
     "name": "stdout",
     "output_type": "stream",
     "text": [
      "Requirement already satisfied: requests in /home/codespace/.local/lib/python3.10/site-packages (2.28.2)\n",
      "Requirement already satisfied: charset-normalizer<4,>=2 in /home/codespace/.local/lib/python3.10/site-packages (from requests) (3.1.0)\n",
      "Requirement already satisfied: idna<4,>=2.5 in /home/codespace/.local/lib/python3.10/site-packages (from requests) (3.4)\n",
      "Requirement already satisfied: urllib3<1.27,>=1.21.1 in /home/codespace/.local/lib/python3.10/site-packages (from requests) (1.26.15)\n",
      "Requirement already satisfied: certifi>=2017.4.17 in /home/codespace/.local/lib/python3.10/site-packages (from requests) (2022.12.7)\n",
      "\n",
      "\u001b[1m[\u001b[0m\u001b[34;49mnotice\u001b[0m\u001b[1;39;49m]\u001b[0m\u001b[39;49m A new release of pip is available: \u001b[0m\u001b[31;49m23.1.1\u001b[0m\u001b[39;49m -> \u001b[0m\u001b[32;49m23.1.2\u001b[0m\n",
      "\u001b[1m[\u001b[0m\u001b[34;49mnotice\u001b[0m\u001b[1;39;49m]\u001b[0m\u001b[39;49m To update, run: \u001b[0m\u001b[32;49mpip install --upgrade pip\u001b[0m\n",
      "Note: you may need to restart the kernel to use updated packages.\n"
     ]
    }
   ],
   "source": [
    "%pip install requests"
   ]
  },
  {
   "cell_type": "code",
   "execution_count": 4,
   "metadata": {},
   "outputs": [
    {
     "ename": "SyntaxError",
     "evalue": "invalid syntax (4138468054.py, line 1)",
     "output_type": "error",
     "traceback": [
      "\u001b[0;36m  Cell \u001b[0;32mIn[4], line 1\u001b[0;36m\u001b[0m\n\u001b[0;31m    MenOfPassion(A,[], n) {\u001b[0m\n\u001b[0m                          ^\u001b[0m\n\u001b[0;31mSyntaxError\u001b[0m\u001b[0;31m:\u001b[0m invalid syntax\n"
     ]
    }
   ],
   "source": [
    "MenOfPassion(A[], n) {\n",
    "    i = ⌊n / 2⌋;\n",
    "    return A[i]; # 코드1\n",
    "}"
   ]
  },
  {
   "cell_type": "code",
   "execution_count": null,
   "metadata": {},
   "outputs": [],
   "source": [
    "a, b = map(int,input().split())\n",
    "if a == 0:\n",
    "    for i in range(b):\n",
    "        if (i+1) % 2 == 0:\n",
    "            print( i+1 )\n",
    "if a == 1:\n",
    "    for i in range(b):\n",
    "        if (i+1) % 2 == 1:\n",
    "            print( i+1 )\n",
    "\n"
   ]
  },
  {
   "cell_type": "code",
   "execution_count": null,
   "metadata": {},
   "outputs": [],
   "source": [
    "n , m = map(int, input().split())\n",
    "nums = list(map(int, input().split()))\n",
    "max = 0\n",
    "for i in range(n-2): #겹치지 않게 탐색\n",
    "    for j in range(i+1,n-1)\n",
    "        for e in range(j+1,n)\n",
    "        sum = nums[i]+[j]+[e]\n",
    "        if (sum<=M and sum>max):\n",
    "            max = sum\n",
    "print(max)\n"
   ]
  },
  {
   "cell_type": "code",
   "execution_count": 6,
   "metadata": {},
   "outputs": [
    {
     "name": "stdout",
     "output_type": "stream",
     "text": [
      "86\n"
     ]
    }
   ],
   "source": [
    "n = int(input())  # 분해합을 입력값으로 받음\n",
    "\n",
    "for i in range(1, n+1):   # 해당 분해합의 생성자 찾기\n",
    "    num = sum((map(int, str(i))))  # i의 각 자릿수를 더함\n",
    "    num_sum = i + num  # 분해합 = 생성자 + 각 자릿수의 합\n",
    "    \n",
    "    if num_sum == n:\n",
    "        print(i)\n",
    "        break\n",
    "    if i == n:  # 생성자 i와 입력값이 같다는 것은 생성자가 없다는 뜻\n",
    "        print(0)"
   ]
  },
  {
   "cell_type": "code",
   "execution_count": null,
   "metadata": {},
   "outputs": [],
   "source": [
    "while True:\n",
    "    num = []\n",
    "    n = int(input())\n",
    "    ans = ''\n",
    "    if n == 1:\n",
    "        break\n",
    "    for i in range(1,n//2+1):\n",
    "        if n % i == 0:\n",
    "            num.append(i)\n",
    "    if sum(num) == n:\n",
    "        ans += (str(n)+' =')\n",
    "        for i in num:\n",
    "            ans += (' + '+str(i))\n",
    "        ans=ans.replace(' +','',1)\n",
    "        print(ans)\n",
    "    else:\n",
    "        print(n, 'is NOt perfet')"
   ]
  },
  {
   "cell_type": "code",
   "execution_count": 15,
   "metadata": {},
   "outputs": [
    {
     "name": "stdout",
     "output_type": "stream",
     "text": [
      "166699\n"
     ]
    }
   ],
   "source": [
    "N = int(input())\n",
    "first = 666 #처음 666인 수\n",
    "while N != 0:# N 이 0이 아니면 계속 반복\n",
    "    if '666' in str(first):\n",
    "        N = N-1# N을 1 감소시키고\n",
    "        if N == 0:# 만약 N 이 0이면\n",
    "            break# 반복문을 탈출한다.\n",
    "    first = first + 1\n",
    "print(first)"
   ]
  },
  {
   "cell_type": "code",
   "execution_count": null,
   "metadata": {},
   "outputs": [],
   "source": [
    "n = int(input())\n",
    "numbers = map(int, input().split())\n",
    "s = 0\n",
    "for num in numbers:\n",
    "    error = 0\n",
    "    if num > 1 :\n",
    "        for i in range(2, num):  \n",
    "            if num % i == 0:\n",
    "                error += 1 \n",
    "        if error == 0:\n",
    "            s += 1  \n",
    "print(sosu)"
   ]
  },
  {
   "cell_type": "code",
   "execution_count": null,
   "metadata": {},
   "outputs": [],
   "source": [
    "N, M = map(int,input().split())\n",
    "nums = list(map(int,input().split()))\n",
    "max=0\n",
    "for i in range(N-2):\n",
    "    for j in range(i+1, N-1):\n",
    "        for k in range(j+1, N):\n",
    "            sum = nums[i]+nums[j]+nums[k]\n",
    "            if(sum<=M and sum>max):\n",
    "                max=sum\n",
    "print(max)"
   ]
  },
  {
   "cell_type": "code",
   "execution_count": 8,
   "metadata": {},
   "outputs": [
    {
     "name": "stdout",
     "output_type": "stream",
     "text": [
      "97\n",
      "103\n"
     ]
    }
   ],
   "source": [
    "n = int(input())\n",
    "if n == 1:\n",
    "    print('')\n",
    "\n",
    "for i in range(2, n+1):\n",
    "    if n % i == 0:\n",
    "        while n % i == 0:\n",
    "            print(i)\n",
    "            n = n / i\n"
   ]
  },
  {
   "cell_type": "code",
   "execution_count": 12,
   "metadata": {},
   "outputs": [
    {
     "name": "stdout",
     "output_type": "stream",
     "text": [
      "6\n"
     ]
    }
   ],
   "source": [
    "a = int(input())\n",
    "b = int(input())\n",
    "print(a*b)"
   ]
  },
  {
   "cell_type": "code",
   "execution_count": 5,
   "metadata": {},
   "outputs": [
    {
     "name": "stdout",
     "output_type": "stream",
     "text": [
      "ZZZZZ\n"
     ]
    }
   ],
   "source": [
    "# https://www.acmicpc.net/problem/11005\n",
    "nums='0123456789ABCDEFGHIJKLMNOPQRSTUVWXYZ'\n",
    "\n",
    "N,B=map(int,input().split())\n",
    "ans=''\n",
    "\n",
    "while N:\n",
    "    ans=nums[N%B]+ans\n",
    "    N//=B\n",
    "\n",
    "print(ans)"
   ]
  },
  {
   "cell_type": "code",
   "execution_count": 4,
   "metadata": {},
   "outputs": [
    {
     "name": "stdout",
     "output_type": "stream",
     "text": [
      "60466175\n"
     ]
    }
   ],
   "source": [
    "# https://www.acmicpc.net/problem/11005\n",
    "n, b = input().split()\n",
    "print(int(n,int(b)))"
   ]
  },
  {
   "cell_type": "code",
   "execution_count": null,
   "metadata": {},
   "outputs": [],
   "source": [
    "n = int(input())\n",
    "\n",
    "for _ in range(n):\n",
    "\tmoney = int(input())\n",
    "\tfor i in [25, 10, 5, 1]:\n",
    "\t\tprint(money//i, end=' ')\n",
    "\t\tmoney = money%i"
   ]
  },
  {
   "cell_type": "code",
   "execution_count": 11,
   "metadata": {},
   "outputs": [],
   "source": [
    "n, k = list(map(int, input().split()))\n",
    "\n",
    "ans = 0\n",
    "for i in range(1, n+1):\n",
    "    if n % i==0:\n",
    "        ans += 1\n",
    "        if ans == k:\n",
    "            print(i)\n",
    "            break\n",
    "if ans < k:\n",
    "    print(0)"
   ]
  },
  {
   "cell_type": "code",
   "execution_count": 11,
   "metadata": {},
   "outputs": [
    {
     "name": "stdout",
     "output_type": "stream",
     "text": [
      "5\n"
     ]
    }
   ],
   "source": [
    "# https://www.acmicpc.net/problem/2292\n",
    "N = int(input())\n",
    "num = 1\n",
    "for i in range(N):\n",
    "    num += i*6  \n",
    "    if N <= num: \n",
    "        print(i+1)\n",
    "        break\n"
   ]
  },
  {
   "cell_type": "code",
   "execution_count": null,
   "metadata": {},
   "outputs": [],
   "source": [
    "A, B, V = map(int, input().split())\n",
    "\n",
    "x = (V-B)/(A-B)\n",
    "if x == int(x):\n",
    "    print(int(x))\n",
    "else:\n",
    "    print(int(x) + 1)"
   ]
  },
  {
   "cell_type": "code",
   "execution_count": 16,
   "metadata": {},
   "outputs": [
    {
     "name": "stdout",
     "output_type": "stream",
     "text": [
      "18446744073709551615\n"
     ]
    }
   ],
   "source": [
    "a, b = map(int, input().split())\n",
    "print(a + b)"
   ]
  },
  {
   "cell_type": "code",
   "execution_count": 15,
   "metadata": {},
   "outputs": [
    {
     "name": "stdout",
     "output_type": "stream",
     "text": [
      "2/1\n"
     ]
    }
   ],
   "source": [
    "x = int(input())\n",
    "i, num = 0, 0\n",
    "while x > num:\n",
    "    i += 1\n",
    "    num += i\n",
    "\n",
    "if i % 2 == 0:\n",
    "    a = i - (num - x)\n",
    "    b = (num - x) + 1\n",
    "\n",
    "else:\n",
    "    a = (num - x) + 1\n",
    "    b = i - (num - x)\n",
    "\n",
    "print(f'{a}/{b}')"
   ]
  },
  {
   "cell_type": "code",
   "execution_count": 9,
   "metadata": {},
   "outputs": [
    {
     "name": "stdout",
     "output_type": "stream",
     "text": [
      "1089\n"
     ]
    }
   ],
   "source": [
    "print((2**int(input())+1)**2)"
   ]
  },
  {
   "cell_type": "code",
   "execution_count": 14,
   "metadata": {},
   "outputs": [],
   "source": [
    "while True:\n",
    "    n = int(input())\n",
    "    if n == -1:\n",
    "        break\n",
    "    a = [1]\n",
    "    for i in range(2, int(n**0.5)+1):\n",
    "        if n % i==0:\n",
    "            a.append(i)\n",
    "        if i != n//i:\n",
    "            a.append(n//i)\n",
    "    a.sort()\n",
    "    if sum(a) == n:\n",
    "        print(f\"{n} = {' + '}\")\n",
    "        \n",
    "    "
   ]
  },
  {
   "cell_type": "code",
   "execution_count": 17,
   "metadata": {},
   "outputs": [
    {
     "ename": "SyntaxError",
     "evalue": "invalid syntax (1186116745.py, line 10)",
     "output_type": "error",
     "traceback": [
      "\u001b[0;36m  Cell \u001b[0;32mIn[17], line 10\u001b[0;36m\u001b[0m\n\u001b[0;31m    except:\u001b[0m\n\u001b[0m    ^\u001b[0m\n\u001b[0;31mSyntaxError\u001b[0m\u001b[0;31m:\u001b[0m invalid syntax\n"
     ]
    }
   ],
   "source": [
    "n, k = map(int, input().split())\n",
    "\n",
    "cnt = 0\n",
    "for i in range(1, n + 1):\n",
    "    if n % 1 ==0:\n",
    "        cnt += 1\n",
    "\n",
    "if len(s) < k:\n",
    "    print(s[k])\n",
    "except:\n",
    "    print(0)"
   ]
  },
  {
   "cell_type": "code",
   "execution_count": 18,
   "metadata": {},
   "outputs": [
    {
     "ename": "SyntaxError",
     "evalue": "invalid syntax (4168762950.py, line 2)",
     "output_type": "error",
     "traceback": [
      "\u001b[0;36m  Cell \u001b[0;32mIn[18], line 2\u001b[0;36m\u001b[0m\n\u001b[0;31m    for\u001b[0m\n\u001b[0m        ^\u001b[0m\n\u001b[0;31mSyntaxError\u001b[0m\u001b[0;31m:\u001b[0m invalid syntax\n"
     ]
    }
   ],
   "source": [
    "t = int(input())\n",
    "for \n",
    "n, m = 12, 16\n",
    "gcd = 1\n",
    "\n",
    "for i in range(1, min(n, m)+1):\n",
    "    if n % i == m % i == 0:\n",
    "        gcd = i\n",
    "pirnt(gcd * (n//gcd)*(m//gcd))\n"
   ]
  },
  {
   "cell_type": "code",
   "execution_count": null,
   "metadata": {},
   "outputs": [
    {
     "ename": "NameError",
     "evalue": "name 'split' is not defined",
     "output_type": "error",
     "traceback": [
      "\u001b[0;31m---------------------------------------------------------------------------\u001b[0m",
      "\u001b[0;31mNameError\u001b[0m                                 Traceback (most recent call last)",
      "Cell \u001b[0;32mIn[5], line 2\u001b[0m\n\u001b[1;32m      1\u001b[0m \u001b[39mwhile\u001b[39;00m \u001b[39mTrue\u001b[39;00m:\n\u001b[0;32m----> 2\u001b[0m     a,b \u001b[39m=\u001b[39m \u001b[39mmap\u001b[39m(\u001b[39mint\u001b[39m, \u001b[39minput\u001b[39m(),split())\n\u001b[1;32m      3\u001b[0m     \u001b[39mif\u001b[39;00m a\u001b[39m==\u001b[39mb\u001b[39m==\u001b[39m\u001b[39m0\u001b[39m:\n\u001b[1;32m      4\u001b[0m         \u001b[39mbreak\u001b[39;00m\n",
      "\u001b[0;31mNameError\u001b[0m: name 'split' is not defined"
     ]
    }
   ],
   "source": [
    "while True:\n",
    "    a,b = map(int, input().split())\n",
    "    if a==b==0:\n",
    "        break\n",
    "    if b%a==0:\n",
    "        print(\"factor\")\n",
    "    elif a%b==0:\n",
    "        print(\"multiple\")\n",
    "    else:\n",
    "        print(\"neither\")\n"
   ]
  },
  {
   "cell_type": "code",
   "execution_count": null,
   "metadata": {},
   "outputs": [],
   "source": [
    "n, k = list(map(int, input().split()))\n"
   ]
  },
  {
   "cell_type": "code",
   "execution_count": null,
   "metadata": {},
   "outputs": [],
   "source": [
    "t = int(input())\n",
    "for _ in range(t):\n",
    "    n, m = map(int, input().split())\n",
    "    on, om = n, m\n",
    "    while True:\n",
    "        n, m = m, n % m\n",
    "        if m == 0:\n",
    "            break\n",
    "    print(on*om//n)"
   ]
  },
  {
   "cell_type": "code",
   "execution_count": 32,
   "metadata": {},
   "outputs": [],
   "source": [
    "# https://www.acmicpc.net/problem/2563\n",
    "\n",
    "\n",
    "판때기 = [[0 for i in range(101)] for _ in range(101)]\n",
    "n = int(input())\n",
    "\n",
    "for _ in range(n):\n",
    "    x, y = map(int, input().split())\n",
    "\n",
    "for i in range(10):\n",
    "        판때기[y+i][x:x+10] = [1] * 10\n",
    "    \n"
   ]
  },
  {
   "cell_type": "code",
   "execution_count": null,
   "metadata": {},
   "outputs": [],
   "source": [
    "# https://www.acmicpc.net/problem/2566\n",
    "\n",
    "# m = []\n",
    "# for i in range(9):\n",
    "#      m.append(list(map(int, input().split())))\n",
    "\n",
    "\n",
    "\n",
    "m = [[int(l) for l in input().split()] for l in range(9)]\n",
    "ans = m[0][0]\n",
    "x = 0\n",
    "y = 0\n",
    "\n",
    "for i in range(9):\n",
    "    for j in range(9):\n",
    "        if ans < m[i][j]:\n",
    "            ans = m[i][j]\n",
    "            x = j\n",
    "            y = i\n",
    "print(ans)\n",
    "print(y, x)"
   ]
  },
  {
   "cell_type": "code",
   "execution_count": 30,
   "metadata": {},
   "outputs": [
    {
     "data": {
      "text/plain": [
       "[['ABCDE'], ['abcde'], ['01234'], ['FGHIJ'], ['fghij']]"
      ]
     },
     "execution_count": 30,
     "metadata": {},
     "output_type": "execute_result"
    }
   ],
   "source": [
    "l = [input().split() for i in range(5)]\n",
    "\n",
    "l"
   ]
  },
  {
   "cell_type": "code",
   "execution_count": 25,
   "metadata": {},
   "outputs": [
    {
     "name": "stdout",
     "output_type": "stream",
     "text": [
      "4 4 4 \n",
      "6 6 6 \n",
      "5 6 100 \n"
     ]
    }
   ],
   "source": [
    "# https://www.acmicpc.net/problem/2738\n",
    "\n",
    "#입력\n",
    "ll = []\n",
    "rl = []\n",
    "\n",
    "n, m = map(int, input().split())\n",
    "\n",
    "for _ in range(n): #좌항 입력\n",
    "    t = list(map(int, input().split()))\n",
    "    ll.append(t)\n",
    "\n",
    "for _ in range(n): #우항 입력\n",
    "    t = list(map(int, input().split()))\n",
    "    rl.append(t)\n",
    "\n",
    "for y in range(n):\n",
    "    for x in range(m):\n",
    "        print (ll[y][x] + rl[y][x], end=\" \")\n",
    "    print()\n"
   ]
  },
  {
   "cell_type": "code",
   "execution_count": 21,
   "metadata": {},
   "outputs": [
    {
     "data": {
      "text/plain": [
       "[[0, 0, 0, 0, 0],\n",
       " [0, 0, 0, 0, 0],\n",
       " [0, 0, 0, 0, 0],\n",
       " [0, 0, 0, 0, 0],\n",
       " [0, 0, 10, 0, 0],\n",
       " [0, 0, 0, 0, 0],\n",
       " [0, 0, 0, 0, 0],\n",
       " [0, 0, 0, 0, 0],\n",
       " [0, 0, 0, 0, 0],\n",
       " [0, 0, 0, 0, 0]]"
      ]
     },
     "execution_count": 21,
     "metadata": {},
     "output_type": "execute_result"
    }
   ],
   "source": [
    "ll = [] #빈 리스트\n",
    "for j in range(10):\n",
    "    ll.append([0]*5 )\n",
    "ll[4][2] = 10\n",
    "ll"
   ]
  }
 ],
 "metadata": {
  "kernelspec": {
   "display_name": "Python 3",
   "language": "python",
   "name": "python3"
  },
  "language_info": {
   "codemirror_mode": {
    "name": "ipython",
    "version": 3
   },
   "file_extension": ".py",
   "mimetype": "text/x-python",
   "name": "python",
   "nbconvert_exporter": "python",
   "pygments_lexer": "ipython3",
   "version": "3.10.4"
  },
  "orig_nbformat": 4
 },
 "nbformat": 4,
 "nbformat_minor": 2
}
