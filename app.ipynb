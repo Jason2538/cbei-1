{
 "cells": [
  {
   "cell_type": "code",
   "execution_count": 23,
   "metadata": {},
   "outputs": [
    {
     "data": {
      "text/plain": [
       "[[0, 0, 0, 0, 0],\n",
       " [0, 0, 0, 0, 0],\n",
       " [0, 0, 0, 0, 0],\n",
       " [0, 0, 0, 0, 0],\n",
       " [0, 0, 0, 0, 0],\n",
       " [0, 0, 0, 0, 0],\n",
       " [0, 0, 0, 0, 0],\n",
       " [0, 0, 0, 0, 0],\n",
       " [0, 0, 0, 0, 0],\n",
       " [0, 0, 0, 0, 0]]"
      ]
     },
     "execution_count": 23,
     "metadata": {},
     "output_type": "execute_result"
    }
   ],
   "source": [
    "\n",
    "l = [input().split() for i in range(5)]\n",
    "\n",
    "\n",
    "for x in range(15):\n",
    "    for y in range(5):"
   ]
  },
  {
   "cell_type": "code",
   "execution_count": null,
   "metadata": {},
   "outputs": [],
   "source": [
    "import os\n",
    "import sys\n",
    "import urllib.request\n",
    "a = input()#입력받기\n",
    "client_id = \"f2Th3ysnK7iV5fWKYycB\" # 개발자센터에서 발급받은 Client ID 값\n",
    "client_secret = \"Kcxjaj0FFY\" # 개발자센터에서 발급받은 Client Secret 값\n",
    "encText = urllib.parse.quote(a)\n",
    "data = \"source=ko&target=en&text=\" + encText\n",
    "url = \"https://openapi.naver.com/v1/papago/n2mt\"\n",
    "request = urllib.request.Request(url)\n",
    "request.add_header(\"X-Naver-Client-Id\",client_id)\n",
    "request.add_header(\"X-Naver-Client-Secret\",client_secret)\n",
    "response = urllib.request.urlopen(request, data=data.encode(\"utf-8\"))\n",
    "rescode = response.getcode()\n",
    "if(rescode==200):\n",
    "    response_body = response.read()\n",
    "    print(response_body.decode('utf-8'))\n",
    "else:\n",
    "    print(\"Error Code:\" + rescode)"
   ]
  },
  {
   "cell_type": "code",
   "execution_count": 56,
   "metadata": {},
   "outputs": [],
   "source": [
    "\n",
    "(w1, w2, w0) = (1, -1, 0)\n",
    "def perceptron(x1, x2):\n",
    "    y = w1 * x1 + w2 * x2 + w0\n",
    "    if y > 0:\n",
    "        return 0\n",
    "    else:\n",
    "        return 1"
   ]
  },
  {
   "cell_type": "code",
   "execution_count": 57,
   "metadata": {},
   "outputs": [
    {
     "name": "stdout",
     "output_type": "stream",
     "text": [
      "1\n",
      "0\n",
      "1\n",
      "0\n",
      "0\n",
      "0\n"
     ]
    }
   ],
   "source": [
    "print(perceptron(2, 3))\n",
    "print(perceptron(2, 1))\n",
    "print(perceptron(3, 3))\n",
    "print(perceptron(5, 3))\n",
    "print(perceptron(6, 4))\n",
    "print(perceptron(7, 3))\n"
   ]
  },
  {
   "cell_type": "code",
   "execution_count": 14,
   "metadata": {},
   "outputs": [],
   "source": [
    "import requests\n",
    "def get_sc_code( name):\n",
    "    param = { #딕셔너리(사전) 만들기\n",
    "        \"SCHUL_NM\": name,\n",
    "        \"ATPT_OFCDC_SC_CODE\":\"M10\",\n",
    "        \"Type\":\"json\"\n",
    "    }\n",
    "    res = requests.get(\"https://open.neis.go.kr/hub/schoolInfo\",params=param)\n",
    "    data = res.json()\n",
    "    r = True\n",
    "    try:\n",
    "        data = data[\"schoolInfo\"][1]['row'][0][\"SD_SCHUL_CODE\"]\n",
    "    except:\n",
    "        data = \"못찾음...미안\"\n",
    "        r = False\n",
    "    return r, data\n",
    "def get_meal(code, d):\n",
    "    params = {\n",
    "        \"ATPT_OFCDC_SC_CODE\":\"M10\",\n",
    "        \"Type\":\"json\",\n",
    "        \"SD_SCHUL_CODE\":code,\n",
    "        \"MLSV_YMD\":d\n",
    "    }\n",
    "    res = requests.get(\"https://open.neis.go.kr/hub/mealServiceDietInfo\", params=params)\n",
    "    data = res.json()\n",
    "    data = data[\"mealServiceDietInfo\"][1][\"row\"][0][\"DDISH_NM\"]\n",
    "    #data = data.replace(\"<br/>\",\"\\n\")\n",
    "    data = data.split(\"<br/>\")\n",
    "    newData = [] #새로운 리스트를 만든다!\n",
    "    for m in data: #메뉴를 순회한다.\n",
    "        newData.append(m.split(\"  \")[0])#공백2칸을 기준으로 잘라서 앞에 자료만 얻는다!\n",
    "    return newData #새로운 데이터 리스트를\n"
   ]
  },
  {
   "cell_type": "code",
   "execution_count": 16,
   "metadata": {},
   "outputs": [
    {
     "ename": "ModuleNotFoundError",
     "evalue": "No module named 'PySimpleGUI'",
     "output_type": "error",
     "traceback": [
      "\u001b[0;31m---------------------------------------------------------------------------\u001b[0m",
      "\u001b[0;31mModuleNotFoundError\u001b[0m                       Traceback (most recent call last)",
      "Cell \u001b[0;32mIn[16], line 1\u001b[0m\n\u001b[0;32m----> 1\u001b[0m \u001b[39mimport\u001b[39;00m \u001b[39mPySimpleGUI\u001b[39;00m \u001b[39mas\u001b[39;00m \u001b[39msg\u001b[39;00m\n\u001b[1;32m      2\u001b[0m layout \u001b[39m=\u001b[39m [\n\u001b[1;32m      3\u001b[0m     [sg\u001b[39m.\u001b[39mText(\u001b[39m\"\u001b[39m\u001b[39m학교 이름\u001b[39m\u001b[39m\"\u001b[39m), sg\u001b[39m.\u001b[39mInput(\u001b[39m\"\u001b[39m\u001b[39m\"\u001b[39m, key \u001b[39m=\u001b[39m \u001b[39m\"\u001b[39m\u001b[39m-scname-\u001b[39m\u001b[39m\"\u001b[39m)],\n\u001b[1;32m      4\u001b[0m     [sg\u001b[39m.\u001b[39mText(\u001b[39m\"\u001b[39m\u001b[39m날짜\u001b[39m\u001b[39m\"\u001b[39m), sg\u001b[39m.\u001b[39mInput(\u001b[39m\"\u001b[39m\u001b[39m\"\u001b[39m, key \u001b[39m=\u001b[39m \u001b[39m\"\u001b[39m\u001b[39m-date-\u001b[39m\u001b[39m\"\u001b[39m)],\n\u001b[1;32m      5\u001b[0m     [sg\u001b[39m.\u001b[39mMultiline(\u001b[39m\"\u001b[39m\u001b[39m데이터 없음\u001b[39m\u001b[39m\"\u001b[39m, key\u001b[39m=\u001b[39m\u001b[39m\"\u001b[39m\u001b[39m-txt-\u001b[39m\u001b[39m\"\u001b[39m ,expand_x\u001b[39m=\u001b[39m\u001b[39mTrue\u001b[39;00m, size\u001b[39m=\u001b[39m(\u001b[39m0\u001b[39m,\u001b[39m5\u001b[39m))],\n\u001b[1;32m      6\u001b[0m     [sg\u001b[39m.\u001b[39mButton(\u001b[39m\"\u001b[39m\u001b[39m찾기\u001b[39m\u001b[39m\"\u001b[39m, key\u001b[39m=\u001b[39m\u001b[39m\"\u001b[39m\u001b[39m-버튼1-\u001b[39m\u001b[39m\"\u001b[39m,expand_x\u001b[39m=\u001b[39m\u001b[39mTrue\u001b[39;00m)],\n\u001b[1;32m      7\u001b[0m ]\n\u001b[1;32m      8\u001b[0m window \u001b[39m=\u001b[39m sg\u001b[39m.\u001b[39mWindow(\u001b[39m\"\u001b[39m\u001b[39mCBEI\u001b[39m\u001b[39m\"\u001b[39m,layout)\n",
      "\u001b[0;31mModuleNotFoundError\u001b[0m: No module named 'PySimpleGUI'"
     ]
    }
   ],
   "source": [
    "import PySimpleGUI as sg\n",
    "layout = [\n",
    "    [sg.Text(\"학교 이름\"), sg.Input(\"\", key = \"-scname-\")],\n",
    "    [sg.Text(\"날짜\"), sg.Input(\"\", key = \"-date-\")],\n",
    "    [sg.Multiline(\"데이터 없음\", key=\"-txt-\" ,expand_x=True, size=(0,5))],\n",
    "    [sg.Button(\"찾기\", key=\"-버튼1-\",expand_x=True)],\n",
    "]\n",
    "window = sg.Window(\"CBEI\",layout)\n",
    "while True:\n",
    "    event, values = window.read()\n",
    "    print(event, values)\n",
    "    if event == \"-버튼2-\":\n",
    "        window[\"-txt-\"].update(\"이걸로 바꿔라!\")\n",
    "    if event == sg.WIN_CLOSED:\n",
    "        break\n",
    "    if event == \"-버튼1-\":\n",
    "        scname  = values[\"-scname-\"]\n",
    "        d = values[\"-date-\"]\n",
    "        r, data = get_sc_code(scname)\n",
    "        if r == True:\n",
    "            meals = get_meal(data,d)\n",
    "            window[\"-txt-\"].update(\"\\n\".join(meals))\n",
    "window.close()"
   ]
  },
  {
   "cell_type": "code",
   "execution_count": 26,
   "metadata": {},
   "outputs": [],
   "source": [
    "import requests\n",
    "import pprint\n",
    "\n",
    "\n",
    "def get_sc_code(name):\n",
    "    param = {\n",
    "        \"SCHUL_NM\":name,\n",
    "        \"ATPT_OFCDC_SC_CODE\":\"M10\",\n",
    "        \"Type\":\"json\"\n",
    "    }\n",
    "    res = requests.get(\"https://open.neis.go.kr/hub/schoolInfo\",params=param)\n",
    "    data = res.json()\n",
    "    r = True\n",
    "    try:\n",
    "        data = data[\"schoolInfo\"][1]['row'][0][\"SD_SCHUL_CODE\"]\n",
    "    except:\n",
    "        data = \"못찾음\"\n",
    "        r = False\n",
    "    return r, data\n"
   ]
  },
  {
   "cell_type": "code",
   "execution_count": 11,
   "metadata": {},
   "outputs": [
    {
     "ename": "KeyError",
     "evalue": "'mealServiceDietInfo'",
     "output_type": "error",
     "traceback": [
      "\u001b[0;31m---------------------------------------------------------------------------\u001b[0m",
      "\u001b[0;31mKeyError\u001b[0m                                  Traceback (most recent call last)",
      "Cell \u001b[0;32mIn[11], line 19\u001b[0m\n\u001b[1;32m     16\u001b[0m     \u001b[39mreturn\u001b[39;00m newData\n\u001b[1;32m     18\u001b[0m r, code \u001b[39m=\u001b[39m get_sc_code(\u001b[39m\"\u001b[39m\u001b[39m청주교육대학교부설초\u001b[39m\u001b[39m\"\u001b[39m)\n\u001b[0;32m---> 19\u001b[0m data \u001b[39m=\u001b[39m get_meal(code,\u001b[39m20230609\u001b[39;49m)\n\u001b[1;32m     20\u001b[0m data\n",
      "Cell \u001b[0;32mIn[11], line 10\u001b[0m, in \u001b[0;36mget_meal\u001b[0;34m(code, d)\u001b[0m\n\u001b[1;32m      8\u001b[0m res \u001b[39m=\u001b[39m requests\u001b[39m.\u001b[39mget(\u001b[39m\"\u001b[39m\u001b[39mhttps://open.neis.go.kr/hub/mealServiceDietInfo\u001b[39m\u001b[39m\"\u001b[39m,params\u001b[39m=\u001b[39mparams)\n\u001b[1;32m      9\u001b[0m data \u001b[39m=\u001b[39m res\u001b[39m.\u001b[39mjson()\n\u001b[0;32m---> 10\u001b[0m data \u001b[39m=\u001b[39m data[\u001b[39m\"\u001b[39;49m\u001b[39mmealServiceDietInfo\u001b[39;49m\u001b[39m\"\u001b[39;49m][\u001b[39m1\u001b[39m][\u001b[39m\"\u001b[39m\u001b[39mrow\u001b[39m\u001b[39m\"\u001b[39m][\u001b[39m0\u001b[39m][\u001b[39m\"\u001b[39m\u001b[39mDDISH_NM\u001b[39m\u001b[39m\"\u001b[39m]\n\u001b[1;32m     11\u001b[0m \u001b[39m#data = data.replace(\"<br/>\",\"\\n\")\u001b[39;00m\n\u001b[1;32m     12\u001b[0m data \u001b[39m=\u001b[39m data\u001b[39m.\u001b[39msplit(\u001b[39m\"\u001b[39m\u001b[39m<br/>\u001b[39m\u001b[39m\"\u001b[39m)\n",
      "\u001b[0;31mKeyError\u001b[0m: 'mealServiceDietInfo'"
     ]
    }
   ],
   "source": [
    "def get_meal(code, d):\n",
    "    params = {\n",
    "        \"ATPT_OFCDC_SC_CODE\":\"M10\",\n",
    "        \"Type\":\"json\",\n",
    "        \"SD_SCHUL_CODE\":code,\n",
    "        \"MLSV_YMD\":d     \n",
    "    }\n",
    "    res = requests.get(\"https://open.neis.go.kr/hub/mealServiceDietInfo\",params=params)\n",
    "    data = res.json()\n",
    "    data = data[\"mealServiceDietInfo\"][1][\"row\"][0][\"DDISH_NM\"]\n",
    "    #data = data.replace(\"<br/>\",\"\\n\")\n",
    "    data = data.split(\"<br/>\")\n",
    "    newData = []\n",
    "    for m in data:\n",
    "        newData.append(m.split(\"  \")[0])\n",
    "    return newData\n",
    "\n",
    "r, code = get_sc_code(\"청주교육대학교부설초\")\n",
    "data = get_meal(code,20230609)\n",
    "data"
   ]
  },
  {
   "cell_type": "code",
   "execution_count": null,
   "metadata": {},
   "outputs": [],
   "source": []
  },
  {
   "cell_type": "code",
   "execution_count": null,
   "metadata": {},
   "outputs": [],
   "source": []
  },
  {
   "cell_type": "code",
   "execution_count": 10,
   "metadata": {},
   "outputs": [
    {
     "name": "stdout",
     "output_type": "stream",
     "text": [
      "Requirement already satisfied: requests in /home/codespace/.local/lib/python3.10/site-packages (2.28.2)\n",
      "Requirement already satisfied: charset-normalizer<4,>=2 in /home/codespace/.local/lib/python3.10/site-packages (from requests) (3.1.0)\n",
      "Requirement already satisfied: idna<4,>=2.5 in /home/codespace/.local/lib/python3.10/site-packages (from requests) (3.4)\n",
      "Requirement already satisfied: urllib3<1.27,>=1.21.1 in /home/codespace/.local/lib/python3.10/site-packages (from requests) (1.26.15)\n",
      "Requirement already satisfied: certifi>=2017.4.17 in /home/codespace/.local/lib/python3.10/site-packages (from requests) (2022.12.7)\n",
      "\n",
      "\u001b[1m[\u001b[0m\u001b[34;49mnotice\u001b[0m\u001b[1;39;49m]\u001b[0m\u001b[39;49m A new release of pip is available: \u001b[0m\u001b[31;49m23.1.1\u001b[0m\u001b[39;49m -> \u001b[0m\u001b[32;49m23.2.1\u001b[0m\n",
      "\u001b[1m[\u001b[0m\u001b[34;49mnotice\u001b[0m\u001b[1;39;49m]\u001b[0m\u001b[39;49m To update, run: \u001b[0m\u001b[32;49mpip install --upgrade pip\u001b[0m\n",
      "Note: you may need to restart the kernel to use updated packages.\n"
     ]
    }
   ],
   "source": [
    "%pip install requests"
   ]
  },
  {
   "cell_type": "code",
   "execution_count": 4,
   "metadata": {},
   "outputs": [
    {
     "ename": "SyntaxError",
     "evalue": "invalid syntax (4138468054.py, line 1)",
     "output_type": "error",
     "traceback": [
      "\u001b[0;36m  Cell \u001b[0;32mIn[4], line 1\u001b[0;36m\u001b[0m\n\u001b[0;31m    MenOfPassion(A,[], n) {\u001b[0m\n\u001b[0m                          ^\u001b[0m\n\u001b[0;31mSyntaxError\u001b[0m\u001b[0;31m:\u001b[0m invalid syntax\n"
     ]
    }
   ],
   "source": [
    "MenOfPassion(A[], n) {\n",
    "    i = ⌊n / 2⌋;\n",
    "    return A[i]; # 코드1\n",
    "}"
   ]
  },
  {
   "cell_type": "code",
   "execution_count": null,
   "metadata": {},
   "outputs": [],
   "source": [
    "a, b = map(int,input().split())\n",
    "if a == 0:\n",
    "    for i in range(b):\n",
    "        if (i+1) % 2 == 0:\n",
    "            print( i+1 )\n",
    "if a == 1:\n",
    "    for i in range(b):\n",
    "        if (i+1) % 2 == 1:\n",
    "            print( i+1 )\n",
    "\n"
   ]
  },
  {
   "cell_type": "code",
   "execution_count": null,
   "metadata": {},
   "outputs": [],
   "source": [
    "n , m = map(int, input().split())\n",
    "nums = list(map(int, input().split()))\n",
    "max = 0\n",
    "for i in range(n-2): #겹치지 않게 탐색\n",
    "    for j in range(i+1,n-1)\n",
    "        for e in range(j+1,n)\n",
    "        sum = nums[i]+[j]+[e]\n",
    "        if (sum<=M and sum>max):\n",
    "            max = sum\n",
    "print(max)\n"
   ]
  },
  {
   "cell_type": "code",
   "execution_count": 6,
   "metadata": {},
   "outputs": [
    {
     "name": "stdout",
     "output_type": "stream",
     "text": [
      "86\n"
     ]
    }
   ],
   "source": [
    "n = int(input())  # 분해합을 입력값으로 받음\n",
    "\n",
    "for i in range(1, n+1):   # 해당 분해합의 생성자 찾기\n",
    "    num = sum((map(int, str(i))))  # i의 각 자릿수를 더함\n",
    "    num_sum = i + num  # 분해합 = 생성자 + 각 자릿수의 합\n",
    "    \n",
    "    if num_sum == n:\n",
    "        print(i)\n",
    "        break\n",
    "    if i == n:  # 생성자 i와 입력값이 같다는 것은 생성자가 없다는 뜻\n",
    "        print(0)"
   ]
  },
  {
   "cell_type": "code",
   "execution_count": null,
   "metadata": {},
   "outputs": [],
   "source": [
    "while True:\n",
    "    num = []\n",
    "    n = int(input())\n",
    "    ans = ''\n",
    "    if n == 1:\n",
    "        break\n",
    "    for i in range(1,n//2+1):\n",
    "        if n % i == 0:\n",
    "            num.append(i)\n",
    "    if sum(num) == n:\n",
    "        ans += (str(n)+' =')\n",
    "        for i in num:\n",
    "            ans += (' + '+str(i))\n",
    "        ans=ans.replace(' +','',1)\n",
    "        print(ans)\n",
    "    else:\n",
    "        print(n, 'is NOt perfet')"
   ]
  },
  {
   "cell_type": "code",
   "execution_count": 15,
   "metadata": {},
   "outputs": [
    {
     "name": "stdout",
     "output_type": "stream",
     "text": [
      "166699\n"
     ]
    }
   ],
   "source": [
    "N = int(input())\n",
    "first = 666 #처음 666인 수\n",
    "while N != 0:# N 이 0이 아니면 계속 반복\n",
    "    if '666' in str(first):\n",
    "        N = N-1# N을 1 감소시키고\n",
    "        if N == 0:# 만약 N 이 0이면\n",
    "            break# 반복문을 탈출한다.\n",
    "    first = first + 1\n",
    "print(first)"
   ]
  },
  {
   "cell_type": "code",
   "execution_count": null,
   "metadata": {},
   "outputs": [],
   "source": [
    "n = int(input())\n",
    "numbers = map(int, input().split())\n",
    "s = 0\n",
    "for num in numbers:\n",
    "    error = 0\n",
    "    if num > 1 :\n",
    "        for i in range(2, num):  \n",
    "            if num % i == 0:\n",
    "                error += 1 \n",
    "        if error == 0:\n",
    "            s += 1  \n",
    "print(sosu)"
   ]
  },
  {
   "cell_type": "code",
   "execution_count": null,
   "metadata": {},
   "outputs": [],
   "source": [
    "N, M = map(int,input().split())\n",
    "nums = list(map(int,input().split()))\n",
    "max=0\n",
    "for i in range(N-2):\n",
    "    for j in range(i+1, N-1):\n",
    "        for k in range(j+1, N):\n",
    "            sum = nums[i]+nums[j]+nums[k]\n",
    "            if(sum<=M and sum>max):\n",
    "                max=sum\n",
    "print(max)"
   ]
  },
  {
   "cell_type": "code",
   "execution_count": 8,
   "metadata": {},
   "outputs": [
    {
     "name": "stdout",
     "output_type": "stream",
     "text": [
      "97\n",
      "103\n"
     ]
    }
   ],
   "source": [
    "n = int(input())\n",
    "if n == 1:\n",
    "    print('')\n",
    "\n",
    "for i in range(2, n+1):\n",
    "    if n % i == 0:\n",
    "        while n % i == 0:\n",
    "            print(i)\n",
    "            n = n / i\n"
   ]
  },
  {
   "cell_type": "code",
   "execution_count": 12,
   "metadata": {},
   "outputs": [
    {
     "name": "stdout",
     "output_type": "stream",
     "text": [
      "6\n"
     ]
    }
   ],
   "source": [
    "a = int(input())\n",
    "b = int(input())\n",
    "print(a*b)"
   ]
  },
  {
   "cell_type": "code",
   "execution_count": 5,
   "metadata": {},
   "outputs": [
    {
     "name": "stdout",
     "output_type": "stream",
     "text": [
      "ZZZZZ\n"
     ]
    }
   ],
   "source": [
    "# https://www.acmicpc.net/problem/11005\n",
    "nums='0123456789ABCDEFGHIJKLMNOPQRSTUVWXYZ'\n",
    "\n",
    "N,B=map(int,input().split())\n",
    "ans=''\n",
    "\n",
    "while N:\n",
    "    ans=nums[N%B]+ans\n",
    "    N//=B\n",
    "\n",
    "print(ans)"
   ]
  },
  {
   "cell_type": "code",
   "execution_count": 4,
   "metadata": {},
   "outputs": [
    {
     "name": "stdout",
     "output_type": "stream",
     "text": [
      "60466175\n"
     ]
    }
   ],
   "source": [
    "# https://www.acmicpc.net/problem/11005\n",
    "n, b = input().split()\n",
    "print(int(n,int(b)))"
   ]
  },
  {
   "cell_type": "code",
   "execution_count": null,
   "metadata": {},
   "outputs": [],
   "source": [
    "n = int(input())\n",
    "\n",
    "for _ in range(n):\n",
    "\tmoney = int(input())\n",
    "\tfor i in [25, 10, 5, 1]:\n",
    "\t\tprint(money//i, end=' ')\n",
    "\t\tmoney = money%i"
   ]
  },
  {
   "cell_type": "code",
   "execution_count": 11,
   "metadata": {},
   "outputs": [],
   "source": [
    "n, k = list(map(int, input().split()))\n",
    "\n",
    "ans = 0\n",
    "for i in range(1, n+1):\n",
    "    if n % i==0:\n",
    "        ans += 1\n",
    "        if ans == k:\n",
    "            print(i)\n",
    "            break\n",
    "if ans < k:\n",
    "    print(0)"
   ]
  },
  {
   "cell_type": "code",
   "execution_count": 11,
   "metadata": {},
   "outputs": [
    {
     "name": "stdout",
     "output_type": "stream",
     "text": [
      "5\n"
     ]
    }
   ],
   "source": [
    "# https://www.acmicpc.net/problem/2292\n",
    "N = int(input())\n",
    "num = 1\n",
    "for i in range(N):\n",
    "    num += i*6  \n",
    "    if N <= num: \n",
    "        print(i+1)\n",
    "        break\n"
   ]
  },
  {
   "cell_type": "code",
   "execution_count": null,
   "metadata": {},
   "outputs": [],
   "source": [
    "A, B, V = map(int, input().split())\n",
    "\n",
    "x = (V-B)/(A-B)\n",
    "if x == int(x):\n",
    "    print(int(x))\n",
    "else:\n",
    "    print(int(x) + 1)"
   ]
  },
  {
   "cell_type": "code",
   "execution_count": 16,
   "metadata": {},
   "outputs": [
    {
     "name": "stdout",
     "output_type": "stream",
     "text": [
      "18446744073709551615\n"
     ]
    }
   ],
   "source": [
    "a, b = map(int, input().split())\n",
    "print(a + b)"
   ]
  },
  {
   "cell_type": "code",
   "execution_count": 15,
   "metadata": {},
   "outputs": [
    {
     "name": "stdout",
     "output_type": "stream",
     "text": [
      "2/1\n"
     ]
    }
   ],
   "source": [
    "x = int(input())\n",
    "i, num = 0, 0\n",
    "while x > num:\n",
    "    i += 1\n",
    "    num += i\n",
    "\n",
    "if i % 2 == 0:\n",
    "    a = i - (num - x)\n",
    "    b = (num - x) + 1\n",
    "\n",
    "else:\n",
    "    a = (num - x) + 1\n",
    "    b = i - (num - x)\n",
    "\n",
    "print(f'{a}/{b}')"
   ]
  },
  {
   "cell_type": "code",
   "execution_count": 9,
   "metadata": {},
   "outputs": [
    {
     "name": "stdout",
     "output_type": "stream",
     "text": [
      "1089\n"
     ]
    }
   ],
   "source": [
    "print((2**int(input())+1)**2)"
   ]
  },
  {
   "cell_type": "code",
   "execution_count": 14,
   "metadata": {},
   "outputs": [],
   "source": [
    "while True:\n",
    "    n = int(input())\n",
    "    if n == -1:\n",
    "        break\n",
    "    a = [1]\n",
    "    for i in range(2, int(n**0.5)+1):\n",
    "        if n % i==0:\n",
    "            a.append(i)\n",
    "        if i != n//i:\n",
    "            a.append(n//i)\n",
    "    a.sort()\n",
    "    if sum(a) == n:\n",
    "        print(f\"{n} = {' + '}\")\n",
    "        \n",
    "    "
   ]
  },
  {
   "cell_type": "code",
   "execution_count": 17,
   "metadata": {},
   "outputs": [
    {
     "ename": "SyntaxError",
     "evalue": "invalid syntax (1186116745.py, line 10)",
     "output_type": "error",
     "traceback": [
      "\u001b[0;36m  Cell \u001b[0;32mIn[17], line 10\u001b[0;36m\u001b[0m\n\u001b[0;31m    except:\u001b[0m\n\u001b[0m    ^\u001b[0m\n\u001b[0;31mSyntaxError\u001b[0m\u001b[0;31m:\u001b[0m invalid syntax\n"
     ]
    }
   ],
   "source": [
    "n, k = map(int, input().split())\n",
    "\n",
    "cnt = 0\n",
    "for i in range(1, n + 1):\n",
    "    if n % 1 ==0:\n",
    "        cnt += 1\n",
    "\n",
    "if len(s) < k:\n",
    "    print(s[k])\n",
    "except:\n",
    "    print(0)"
   ]
  },
  {
   "cell_type": "code",
   "execution_count": 18,
   "metadata": {},
   "outputs": [
    {
     "ename": "SyntaxError",
     "evalue": "invalid syntax (4168762950.py, line 2)",
     "output_type": "error",
     "traceback": [
      "\u001b[0;36m  Cell \u001b[0;32mIn[18], line 2\u001b[0;36m\u001b[0m\n\u001b[0;31m    for\u001b[0m\n\u001b[0m        ^\u001b[0m\n\u001b[0;31mSyntaxError\u001b[0m\u001b[0;31m:\u001b[0m invalid syntax\n"
     ]
    }
   ],
   "source": [
    "t = int(input())\n",
    "for \n",
    "n, m = 12, 16\n",
    "gcd = 1\n",
    "\n",
    "for i in range(1, min(n, m)+1):\n",
    "    if n % i == m % i == 0:\n",
    "        gcd = i\n",
    "pirnt(gcd * (n//gcd)*(m//gcd))\n"
   ]
  },
  {
   "cell_type": "code",
   "execution_count": null,
   "metadata": {},
   "outputs": [
    {
     "ename": "NameError",
     "evalue": "name 'split' is not defined",
     "output_type": "error",
     "traceback": [
      "\u001b[0;31m---------------------------------------------------------------------------\u001b[0m",
      "\u001b[0;31mNameError\u001b[0m                                 Traceback (most recent call last)",
      "Cell \u001b[0;32mIn[5], line 2\u001b[0m\n\u001b[1;32m      1\u001b[0m \u001b[39mwhile\u001b[39;00m \u001b[39mTrue\u001b[39;00m:\n\u001b[0;32m----> 2\u001b[0m     a,b \u001b[39m=\u001b[39m \u001b[39mmap\u001b[39m(\u001b[39mint\u001b[39m, \u001b[39minput\u001b[39m(),split())\n\u001b[1;32m      3\u001b[0m     \u001b[39mif\u001b[39;00m a\u001b[39m==\u001b[39mb\u001b[39m==\u001b[39m\u001b[39m0\u001b[39m:\n\u001b[1;32m      4\u001b[0m         \u001b[39mbreak\u001b[39;00m\n",
      "\u001b[0;31mNameError\u001b[0m: name 'split' is not defined"
     ]
    }
   ],
   "source": [
    "while True:\n",
    "    a,b = map(int, input().split())\n",
    "    if a==b==0:\n",
    "        break\n",
    "    if b%a==0:\n",
    "        print(\"factor\")\n",
    "    elif a%b==0:\n",
    "        print(\"multiple\")\n",
    "    else:\n",
    "        print(\"neither\")\n"
   ]
  },
  {
   "cell_type": "code",
   "execution_count": null,
   "metadata": {},
   "outputs": [],
   "source": [
    "n, k = list(map(int, input().split()))\n"
   ]
  },
  {
   "cell_type": "code",
   "execution_count": null,
   "metadata": {},
   "outputs": [],
   "source": [
    "t = int(input())\n",
    "for _ in range(t):\n",
    "    n, m = map(int, input().split())\n",
    "    on, om = n, m\n",
    "    while True:\n",
    "        n, m = m, n % m\n",
    "        if m == 0:\n",
    "            break\n",
    "    print(on*om//n)"
   ]
  },
  {
   "cell_type": "code",
   "execution_count": 32,
   "metadata": {},
   "outputs": [],
   "source": [
    "# https://www.acmicpc.net/problem/2563\n",
    "\n",
    "\n",
    "판때기 = [[0 for i in range(101)] for _ in range(101)]\n",
    "n = int(input())\n",
    "\n",
    "for _ in range(n):\n",
    "    x, y = map(int, input().split())\n",
    "\n",
    "for i in range(10):\n",
    "        판때기[y+i][x:x+10] = [1] * 10\n",
    "    \n"
   ]
  },
  {
   "cell_type": "code",
   "execution_count": null,
   "metadata": {},
   "outputs": [],
   "source": [
    "# https://www.acmicpc.net/problem/2566\n",
    "\n",
    "# m = []\n",
    "# for i in range(9):\n",
    "#      m.append(list(map(int, input().split())))\n",
    "\n",
    "\n",
    "\n",
    "m = [[int(l) for l in input().split()] for l in range(9)]\n",
    "ans = m[0][0]\n",
    "x = 0\n",
    "y = 0\n",
    "\n",
    "for i in range(9):\n",
    "    for j in range(9):\n",
    "        if ans < m[i][j]:\n",
    "            ans = m[i][j]\n",
    "            x = j\n",
    "            y = i\n",
    "print(ans)\n",
    "print(y, x)"
   ]
  },
  {
   "cell_type": "code",
   "execution_count": 30,
   "metadata": {},
   "outputs": [
    {
     "data": {
      "text/plain": [
       "[['ABCDE'], ['abcde'], ['01234'], ['FGHIJ'], ['fghij']]"
      ]
     },
     "execution_count": 30,
     "metadata": {},
     "output_type": "execute_result"
    }
   ],
   "source": [
    "l = [input().split() for i in range(5)]\n",
    "\n",
    "l"
   ]
  },
  {
   "cell_type": "code",
   "execution_count": 25,
   "metadata": {},
   "outputs": [
    {
     "name": "stdout",
     "output_type": "stream",
     "text": [
      "4 4 4 \n",
      "6 6 6 \n",
      "5 6 100 \n"
     ]
    }
   ],
   "source": [
    "# https://www.acmicpc.net/problem/2738\n",
    "\n",
    "#입력\n",
    "ll = []\n",
    "rl = []\n",
    "\n",
    "n, m = map(int, input().split())\n",
    "\n",
    "for _ in range(n): #좌항 입력\n",
    "    t = list(map(int, input().split()))\n",
    "    ll.append(t)\n",
    "\n",
    "for _ in range(n): #우항 입력\n",
    "    t = list(map(int, input().split()))\n",
    "    rl.append(t)\n",
    "\n",
    "for y in range(n):\n",
    "    for x in range(m):\n",
    "        print (ll[y][x] + rl[y][x], end=\" \")\n",
    "    print()\n"
   ]
  },
  {
   "cell_type": "code",
   "execution_count": 21,
   "metadata": {},
   "outputs": [
    {
     "data": {
      "text/plain": [
       "[[0, 0, 0, 0, 0],\n",
       " [0, 0, 0, 0, 0],\n",
       " [0, 0, 0, 0, 0],\n",
       " [0, 0, 0, 0, 0],\n",
       " [0, 0, 10, 0, 0],\n",
       " [0, 0, 0, 0, 0],\n",
       " [0, 0, 0, 0, 0],\n",
       " [0, 0, 0, 0, 0],\n",
       " [0, 0, 0, 0, 0],\n",
       " [0, 0, 0, 0, 0]]"
      ]
     },
     "execution_count": 21,
     "metadata": {},
     "output_type": "execute_result"
    }
   ],
   "source": [
    "ll = [] #빈 리스트\n",
    "for j in range(10):\n",
    "    ll.append([0]*5 )\n",
    "ll[4][2] = 10\n",
    "ll"
   ]
  }
 ],
 "metadata": {
  "kernelspec": {
   "display_name": "Python 3",
   "language": "python",
   "name": "python3"
  },
  "language_info": {
   "codemirror_mode": {
    "name": "ipython",
    "version": 3
   },
   "file_extension": ".py",
   "mimetype": "text/x-python",
   "name": "python",
   "nbconvert_exporter": "python",
   "pygments_lexer": "ipython3",
   "version": "3.10.4"
  },
  "orig_nbformat": 4
 },
 "nbformat": 4,
 "nbformat_minor": 2
}
